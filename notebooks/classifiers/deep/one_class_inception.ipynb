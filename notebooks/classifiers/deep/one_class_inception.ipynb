{
 "cells": [
  {
   "cell_type": "code",
   "execution_count": 3,
   "metadata": {},
   "outputs": [],
   "source": [
    "import sys\n",
    "sys.path.append('../../../')"
   ]
  },
  {
   "cell_type": "code",
   "execution_count": 4,
   "metadata": {},
   "outputs": [],
   "source": [
    "import numpy as np\n",
    "\n",
    "from occts.classifiers.deep import InceptionModel, OneClassTrainer\n",
    "from occts.classifiers.deep_task import OneClassTask\n",
    "from occts.utils.data import load_ucr_dataset, create_datasets, create_dataloaders\n",
    "\n",
    "import torch\n",
    "import torch.nn as nn\n",
    "import torch.optim as optim\n",
    "from torch.utils.data import Dataset, DataLoader\n",
    "import torch.nn.functional as F\n",
    "\n",
    "from typing import Tuple, Optional"
   ]
  },
  {
   "cell_type": "code",
   "execution_count": 5,
   "metadata": {},
   "outputs": [],
   "source": [
    "DATASETS = [\n",
    "    'Yoga', 'WormsTwoClass', 'Wine', 'Wafer', 'TwoLeadECG', 'Strawberry', 'SemgHandGenderCh2', 'BeetleFly',\n",
    "    'BirdChicken', 'Computers', 'DistalPhalanxOutlineCorrect', 'Earthquakes', 'ECG200', 'ECGFiveDays',\n",
    "    'FordA', 'FordB', 'HandOutlines', 'ItalyPowerDemand', 'MiddlePhalanxOutlineCorrect', 'Chinatown',\n",
    "    'FreezerRegularTrain', 'FreezerSmallTrain', 'GunPointAgeSpan', 'GunPointMaleVersusFemale',\n",
    "    'GunPointOldVersusYoung', 'PowerCons', 'Coffee', 'Ham', 'Herring', 'Lightning2', 'MoteStrain',\n",
    "    'PhalangesOutlinesCorrect', 'ProximalPhalanxOutlineCorrect', 'ShapeletSim', 'SonyAIBORobotSurface1',\n",
    "    'SonyAIBORobotSurface2', 'ToeSegmentation1', 'ToeSegmentation2', 'HouseTwenty'\n",
    "]"
   ]
  },
  {
   "cell_type": "code",
   "execution_count": 6,
   "metadata": {},
   "outputs": [],
   "source": [
    "dataset_list = []\n",
    "dataset_label = []\n",
    "dataset_roc_auc = []\n",
    "dataset_acc = []"
   ]
  },
  {
   "cell_type": "code",
   "execution_count": 8,
   "metadata": {},
   "outputs": [
    {
     "name": "stdout",
     "output_type": "stream",
     "text": [
      "Testing with dataset: Yoga...\n",
      "\tClassifying the label 1...\n",
      "\t\t\tTest set AUC 0.5180194688439084\n",
      "\t\t\tTest set Accuracy 0.4673333333333333\n"
     ]
    }
   ],
   "source": [
    "for dataset in DATASETS:\n",
    "    print(f'Testing with dataset: {dataset}...')\n",
    "    x_train, x_test, y_train, y_test = load_ucr_dataset(dataset=dataset)\n",
    "\n",
    "    # Get unique labels to do the one class classification task\n",
    "    unique_labels = np.unique(y_train)\n",
    "\n",
    "    for label in unique_labels:\n",
    "        print(f'\\tClassifying the label {label}...')\n",
    "\n",
    "        train_dataset, _, test_dataset = create_datasets(x_train, x_test, y_train, y_test, label)\n",
    "        train_loader, _, test_loader = create_dataloaders(train_dataset=train_dataset, test_dataset=test_dataset)\n",
    "\n",
    "        model = InceptionModel(\n",
    "            num_blocks=6,\n",
    "            in_channels=1,\n",
    "            out_channels=32,\n",
    "            bottleneck_channels=32,\n",
    "            kernel_sizes=41,\n",
    "            use_residuals = True,\n",
    "            latent_dim = 32\n",
    "        )\n",
    "        octask = OneClassTask(model=model, objective='soft-boundary', nu=0.1)\n",
    "\n",
    "        octask.train(dataloader=train_loader, epochs=150, lr=1e-3, weight_decay=1e-6)\n",
    "        octask.test(dataloader=test_loader)\n",
    "\n",
    "        dataset_list.append(dataset)\n",
    "        dataset_label.append(label)\n",
    "        dataset_acc.append(octask.trainer.test_acc)\n",
    "        dataset_roc_auc.append(octask.trainer.test_auc)\n",
    "\n",
    "        break\n",
    "    break"
   ]
  }
 ],
 "metadata": {
  "kernelspec": {
   "display_name": "Python 3",
   "language": "python",
   "name": "python3"
  },
  "language_info": {
   "codemirror_mode": {
    "name": "ipython",
    "version": 3
   },
   "file_extension": ".py",
   "mimetype": "text/x-python",
   "name": "python",
   "nbconvert_exporter": "python",
   "pygments_lexer": "ipython3",
   "version": "3.9.13"
  },
  "orig_nbformat": 4,
  "vscode": {
   "interpreter": {
    "hash": "97025ed64de6df6945476af4b04247a85c116b7d870705b111b17853dcfe747a"
   }
  }
 },
 "nbformat": 4,
 "nbformat_minor": 2
}
